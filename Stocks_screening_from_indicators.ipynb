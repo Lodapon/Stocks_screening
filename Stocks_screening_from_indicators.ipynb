{
 "cells": [
  {
   "cell_type": "markdown",
   "id": "29dbbd72",
   "metadata": {},
   "source": [
    "# Thai stocks screening from indicators\n",
    "\n",
    "In the following code, the criteria for selecting stocks are as follows:\n",
    "\n",
    "- P/E Ratio (Price-to-Earnings Ratio):\n",
    "> - The trailing twelve months (TTM) P/E ratio should be less than 20.\n",
    "> - The P/E ratio indicates how much investors are willing to pay per dollar of earnings. A lower P/E ratio may suggest that the stock is undervalued relative to its earnings.\n",
    "\n",
    "- Dividend Yield:\n",
    "\n",
    "> - The dividend yield should be greater than 2%.\n",
    "> - Dividend yield represents the annual dividend payment as a percentage of the stock's current price. A higher dividend yield may indicate that the stock provides better returns through dividend income.\n",
    "\n",
    "- Market Capitalization:\n",
    "> We'll include stocks with a market capitalization greater than 1 billion THB. This helps filter out smaller, less established companies.\n",
    "\n",
    "- Return on Equity (ROE):\n",
    "> We'll consider stocks with a Return on Equity greater than 10%. ROE measures a company's profitability by revealing how much profit a company generates with the money shareholders have invested."
   ]
  },
  {
   "cell_type": "code",
   "execution_count": 1,
   "id": "4de43efc",
   "metadata": {},
   "outputs": [],
   "source": [
    "import yfinance as yf\n",
    "import pandas as pd"
   ]
  },
  {
   "cell_type": "code",
   "execution_count": 2,
   "id": "1156e801",
   "metadata": {},
   "outputs": [],
   "source": [
    "# Function to screen stocks based on user-defined criteria\n",
    "def screen_stocks(stock_info):\n",
    "    # Define your screening criteria here\n",
    "    # Example criteria: P/E ratio less than 20, dividend yield greater than 2%, market cap > 1 billion THB, ROE > 10%\n",
    "    pe_ratio = stock_info.get('trailingPE')\n",
    "    dividend_yield = stock_info.get('dividendYield')\n",
    "    market_cap = stock_info.get('marketCap')\n",
    "    roe = stock_info.get('returnOnEquity')\n",
    "    \n",
    "    selected_criteria = []\n",
    "    \n",
    "    if pe_ratio is not None and pe_ratio < 20 \\\n",
    "       and dividend_yield is not None and dividend_yield > 0.02:\n",
    "        selected_criteria.append(\"P/E Ratio & Dividend Yield\")\n",
    "        \n",
    "    if roe is not None and roe > 0.10:\n",
    "        selected_criteria.append(\"ROE\")\n",
    "        \n",
    "    if market_cap is not None and market_cap > 1e9:\n",
    "        selected_criteria.append(\"Market Cap > 1B THB\")\n",
    "    \n",
    "    return selected_criteria"
   ]
  },
  {
   "cell_type": "code",
   "execution_count": 3,
   "id": "b4686988",
   "metadata": {},
   "outputs": [],
   "source": [
    "# Fetch a list of all Thai stock symbols\n",
    "def get_thai_stock_symbols():\n",
    "    # You may need to replace this with a method to fetch Thai stock symbols from an external source\n",
    "    # For demonstration purposes, let's assume a list of sample Thai stock symbols\n",
    "    return ['SHR.BK', 'KKP.BK', 'ADVANC.BK', 'PT.BK', 'INTUCH.BK']"
   ]
  },
  {
   "cell_type": "code",
   "execution_count": 4,
   "id": "6b9b59df",
   "metadata": {},
   "outputs": [],
   "source": [
    "# Fetch stock data and apply screening\n",
    "def screen_thai_stocks():\n",
    "    thai_stocks = get_thai_stock_symbols()\n",
    "    selected_stocks = []\n",
    "\n",
    "    for stock in thai_stocks:\n",
    "        try:\n",
    "            ticker = yf.Ticker(stock)\n",
    "            stock_info = ticker.info\n",
    "            \n",
    "            selected_criteria = screen_stocks(stock_info)\n",
    "            \n",
    "            if selected_criteria:\n",
    "                selected_stocks.append({\n",
    "                    'Ticker': stock,\n",
    "                    'Name': stock_info.get('longName'),\n",
    "                    'Selected Criteria': ', '.join(selected_criteria),\n",
    "                    'P/E Ratio': stock_info.get('trailingPE'),\n",
    "                    'Dividend Yield': stock_info.get('dividendYield') * 100 if stock_info.get('dividendYield') else None,\n",
    "                    'Market Cap': stock_info.get('marketCap'),\n",
    "                    'ROE': stock_info.get('returnOnEquity') * 100 if stock_info.get('returnOnEquity') else None\n",
    "                })\n",
    "        except Exception as e:\n",
    "            print(f\"Could not retrieve data for {stock}: {e}\")\n",
    "\n",
    "    return selected_stocks"
   ]
  },
  {
   "cell_type": "code",
   "execution_count": 5,
   "id": "823963ae",
   "metadata": {},
   "outputs": [
    {
     "name": "stdout",
     "output_type": "stream",
     "text": [
      "Results for Market Cap > 1B THB:\n"
     ]
    },
    {
     "data": {
      "text/html": [
       "<div>\n",
       "<style scoped>\n",
       "    .dataframe tbody tr th:only-of-type {\n",
       "        vertical-align: middle;\n",
       "    }\n",
       "\n",
       "    .dataframe tbody tr th {\n",
       "        vertical-align: top;\n",
       "    }\n",
       "\n",
       "    .dataframe thead th {\n",
       "        text-align: right;\n",
       "    }\n",
       "</style>\n",
       "<table border=\"1\" class=\"dataframe\">\n",
       "  <thead>\n",
       "    <tr style=\"text-align: right;\">\n",
       "      <th></th>\n",
       "      <th>Ticker</th>\n",
       "      <th>Name</th>\n",
       "      <th>P/E Ratio</th>\n",
       "      <th>Dividend Yield</th>\n",
       "      <th>Market Cap</th>\n",
       "      <th>ROE</th>\n",
       "    </tr>\n",
       "  </thead>\n",
       "  <tbody>\n",
       "    <tr>\n",
       "      <th>0</th>\n",
       "      <td>SHR.BK</td>\n",
       "      <td>S Hotels and Resorts Public Company Limited</td>\n",
       "      <td>110.00001</td>\n",
       "      <td>0.68</td>\n",
       "      <td>7906008064</td>\n",
       "      <td>0.538</td>\n",
       "    </tr>\n",
       "  </tbody>\n",
       "</table>\n",
       "</div>"
      ],
      "text/plain": [
       "   Ticker                                         Name  P/E Ratio  \\\n",
       "0  SHR.BK  S Hotels and Resorts Public Company Limited  110.00001   \n",
       "\n",
       "   Dividend Yield  Market Cap    ROE  \n",
       "0            0.68  7906008064  0.538  "
      ]
     },
     "metadata": {},
     "output_type": "display_data"
    },
    {
     "name": "stdout",
     "output_type": "stream",
     "text": [
      "\n",
      "\n",
      "Results for P/E Ratio & Dividend Yield, Market Cap > 1B THB:\n"
     ]
    },
    {
     "data": {
      "text/html": [
       "<div>\n",
       "<style scoped>\n",
       "    .dataframe tbody tr th:only-of-type {\n",
       "        vertical-align: middle;\n",
       "    }\n",
       "\n",
       "    .dataframe tbody tr th {\n",
       "        vertical-align: top;\n",
       "    }\n",
       "\n",
       "    .dataframe thead th {\n",
       "        text-align: right;\n",
       "    }\n",
       "</style>\n",
       "<table border=\"1\" class=\"dataframe\">\n",
       "  <thead>\n",
       "    <tr style=\"text-align: right;\">\n",
       "      <th></th>\n",
       "      <th>Ticker</th>\n",
       "      <th>Name</th>\n",
       "      <th>P/E Ratio</th>\n",
       "      <th>Dividend Yield</th>\n",
       "      <th>Market Cap</th>\n",
       "      <th>ROE</th>\n",
       "    </tr>\n",
       "  </thead>\n",
       "  <tbody>\n",
       "    <tr>\n",
       "      <th>1</th>\n",
       "      <td>KKP.BK</td>\n",
       "      <td>Kiatnakin Phatra Bank Public Company Limited</td>\n",
       "      <td>9.173913</td>\n",
       "      <td>6.64</td>\n",
       "      <td>44666589184</td>\n",
       "      <td>7.914</td>\n",
       "    </tr>\n",
       "  </tbody>\n",
       "</table>\n",
       "</div>"
      ],
      "text/plain": [
       "   Ticker                                          Name  P/E Ratio  \\\n",
       "1  KKP.BK  Kiatnakin Phatra Bank Public Company Limited   9.173913   \n",
       "\n",
       "   Dividend Yield   Market Cap    ROE  \n",
       "1            6.64  44666589184  7.914  "
      ]
     },
     "metadata": {},
     "output_type": "display_data"
    },
    {
     "name": "stdout",
     "output_type": "stream",
     "text": [
      "\n",
      "\n",
      "Results for P/E Ratio & Dividend Yield, ROE, Market Cap > 1B THB:\n"
     ]
    },
    {
     "data": {
      "text/html": [
       "<div>\n",
       "<style scoped>\n",
       "    .dataframe tbody tr th:only-of-type {\n",
       "        vertical-align: middle;\n",
       "    }\n",
       "\n",
       "    .dataframe tbody tr th {\n",
       "        vertical-align: top;\n",
       "    }\n",
       "\n",
       "    .dataframe thead th {\n",
       "        text-align: right;\n",
       "    }\n",
       "</style>\n",
       "<table border=\"1\" class=\"dataframe\">\n",
       "  <thead>\n",
       "    <tr style=\"text-align: right;\">\n",
       "      <th></th>\n",
       "      <th>Ticker</th>\n",
       "      <th>Name</th>\n",
       "      <th>P/E Ratio</th>\n",
       "      <th>Dividend Yield</th>\n",
       "      <th>Market Cap</th>\n",
       "      <th>ROE</th>\n",
       "    </tr>\n",
       "  </thead>\n",
       "  <tbody>\n",
       "    <tr>\n",
       "      <th>3</th>\n",
       "      <td>PT.BK</td>\n",
       "      <td>Premier Technology Public Company Limited</td>\n",
       "      <td>9.333333</td>\n",
       "      <td>7.98</td>\n",
       "      <td>2384667392</td>\n",
       "      <td>37.157002</td>\n",
       "    </tr>\n",
       "    <tr>\n",
       "      <th>4</th>\n",
       "      <td>INTUCH.BK</td>\n",
       "      <td>Intouch Holdings Public Company Limited</td>\n",
       "      <td>16.063084</td>\n",
       "      <td>4.95</td>\n",
       "      <td>220459941888</td>\n",
       "      <td>42.180002</td>\n",
       "    </tr>\n",
       "  </tbody>\n",
       "</table>\n",
       "</div>"
      ],
      "text/plain": [
       "      Ticker                                       Name  P/E Ratio  \\\n",
       "3      PT.BK  Premier Technology Public Company Limited   9.333333   \n",
       "4  INTUCH.BK    Intouch Holdings Public Company Limited  16.063084   \n",
       "\n",
       "   Dividend Yield    Market Cap        ROE  \n",
       "3            7.98    2384667392  37.157002  \n",
       "4            4.95  220459941888  42.180002  "
      ]
     },
     "metadata": {},
     "output_type": "display_data"
    },
    {
     "name": "stdout",
     "output_type": "stream",
     "text": [
      "\n",
      "\n",
      "Results for ROE, Market Cap > 1B THB:\n"
     ]
    },
    {
     "data": {
      "text/html": [
       "<div>\n",
       "<style scoped>\n",
       "    .dataframe tbody tr th:only-of-type {\n",
       "        vertical-align: middle;\n",
       "    }\n",
       "\n",
       "    .dataframe tbody tr th {\n",
       "        vertical-align: top;\n",
       "    }\n",
       "\n",
       "    .dataframe thead th {\n",
       "        text-align: right;\n",
       "    }\n",
       "</style>\n",
       "<table border=\"1\" class=\"dataframe\">\n",
       "  <thead>\n",
       "    <tr style=\"text-align: right;\">\n",
       "      <th></th>\n",
       "      <th>Ticker</th>\n",
       "      <th>Name</th>\n",
       "      <th>P/E Ratio</th>\n",
       "      <th>Dividend Yield</th>\n",
       "      <th>Market Cap</th>\n",
       "      <th>ROE</th>\n",
       "    </tr>\n",
       "  </thead>\n",
       "  <tbody>\n",
       "    <tr>\n",
       "      <th>2</th>\n",
       "      <td>ADVANC.BK</td>\n",
       "      <td>Advanced Info Service Public Company Limited</td>\n",
       "      <td>20.173746</td>\n",
       "      <td>4.43</td>\n",
       "      <td>621566033920</td>\n",
       "      <td>37.232</td>\n",
       "    </tr>\n",
       "  </tbody>\n",
       "</table>\n",
       "</div>"
      ],
      "text/plain": [
       "      Ticker                                          Name  P/E Ratio  \\\n",
       "2  ADVANC.BK  Advanced Info Service Public Company Limited  20.173746   \n",
       "\n",
       "   Dividend Yield    Market Cap     ROE  \n",
       "2            4.43  621566033920  37.232  "
      ]
     },
     "metadata": {},
     "output_type": "display_data"
    },
    {
     "name": "stdout",
     "output_type": "stream",
     "text": [
      "\n",
      "\n"
     ]
    }
   ],
   "source": [
    "# Main function to run the screening process\n",
    "def main():\n",
    "    selected_stocks = screen_thai_stocks()\n",
    "    \n",
    "    if selected_stocks:\n",
    "        df_selected_stocks = pd.DataFrame(selected_stocks)\n",
    "        grouped_criteria = df_selected_stocks.groupby('Selected Criteria')\n",
    "        \n",
    "        for criteria, group in grouped_criteria:\n",
    "            print(f\"Results for {criteria}:\")\n",
    "            display(group[['Ticker', 'Name', 'P/E Ratio', 'Dividend Yield', 'Market Cap', 'ROE']])\n",
    "            print('\\n')\n",
    "    else:\n",
    "        print(\"No stocks found matching the criteria.\")\n",
    "\n",
    "# Run the main function\n",
    "main()"
   ]
  },
  {
   "cell_type": "code",
   "execution_count": null,
   "id": "b4550198",
   "metadata": {},
   "outputs": [],
   "source": []
  },
  {
   "cell_type": "code",
   "execution_count": null,
   "id": "ae405028",
   "metadata": {},
   "outputs": [],
   "source": []
  }
 ],
 "metadata": {
  "kernelspec": {
   "display_name": "Python 3 (ipykernel)",
   "language": "python",
   "name": "python3"
  },
  "language_info": {
   "codemirror_mode": {
    "name": "ipython",
    "version": 3
   },
   "file_extension": ".py",
   "mimetype": "text/x-python",
   "name": "python",
   "nbconvert_exporter": "python",
   "pygments_lexer": "ipython3",
   "version": "3.9.7"
  }
 },
 "nbformat": 4,
 "nbformat_minor": 5
}
